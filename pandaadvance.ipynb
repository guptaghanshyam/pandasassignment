{
 "cells": [
  {
   "attachments": {},
   "cell_type": "markdown",
   "metadata": {},
   "source": [
    "Q1. List any five functions of the pandas library with execution.\n"
   ]
  },
  {
   "attachments": {},
   "cell_type": "markdown",
   "metadata": {},
   "source": [
    "\n",
    "five function of the pandas are as :\n",
    "\n",
    "1.'read_csv'\n",
    "\n",
    "2.'groupby()'\n",
    "\n",
    "3.'merge()'\n",
    "\n",
    "4.'pivot_table'\n",
    "\n",
    "5.'apply()'"
   ]
  },
  {
   "cell_type": "code",
   "execution_count": 6,
   "metadata": {},
   "outputs": [
    {
     "name": "stdout",
     "output_type": "stream",
     "text": [
      "   id  location_id  program_id accepted_payments alternate_name  \\\n",
      "0   1            1         NaN               NaN            NaN   \n",
      "1   2            2         NaN               NaN            NaN   \n",
      "2   3            3         NaN               NaN            NaN   \n",
      "3   4            4         NaN               NaN            NaN   \n",
      "4   5            5         NaN               NaN            NaN   \n",
      "\n",
      "                           application_process  \\\n",
      "0                   Walk in or apply by phone.   \n",
      "1           Apply by phone for an appointment.   \n",
      "2  Phone for information (403-4300 Ext. 4322).   \n",
      "3                              Apply by phone.   \n",
      "4                       Phone for information.   \n",
      "\n",
      "                                            audience  \\\n",
      "0  Older adults age 55 or over, ethnic minorities...   \n",
      "1       Residents of San Mateo County age 55 or over   \n",
      "2  Older adults age 55 or over who can benefit fr...   \n",
      "3  Parents, children, families with problems of c...   \n",
      "4  Low-income working families with children tran...   \n",
      "\n",
      "                                         description  \\\n",
      "0  A walk-in center for older adults that provide...   \n",
      "1  Provides training and job placement to eligibl...   \n",
      "2  Offers supportive counseling services to San M...   \n",
      "3  Provides supervised visitation services and a ...   \n",
      "4  Provides fixed 8% short term loans to eligible...   \n",
      "\n",
      "                                         eligibility email  ...  \\\n",
      "0  Age 55 or over for most programs, age 60 or ov...   NaN  ...   \n",
      "1  Age 55 or over, county resident and willing an...   NaN  ...   \n",
      "2        Resident of San Mateo County age 55 or over   NaN  ...   \n",
      "3                                               None   NaN  ...   \n",
      "4  Eligibility: Low-income family with legal cust...   NaN  ...   \n",
      "\n",
      "  interpretation_services                                           keywords  \\\n",
      "0                     NaN  ADULT PROTECTION AND CARE SERVICES, Meal Sites...   \n",
      "1                     NaN  EMPLOYMENT/TRAINING SERVICES, Job Development,...   \n",
      "2                     NaN  Geriatric Counseling, Older Adults, Gay, Lesbi...   \n",
      "3                     NaN  INDIVIDUAL AND FAMILY DEVELOPMENT SERVICES, Gr...   \n",
      "4                     NaN     COMMUNITY SERVICES, Speakers, Automobile Loans   \n",
      "\n",
      "  languages                               name required_documents  \\\n",
      "0       NaN    Fair Oaks Adult Activity Center                NaN   \n",
      "1       NaN   Second Career Employment Program                NaN   \n",
      "2       NaN             Senior Peer Counseling                NaN   \n",
      "3       NaN           Family Visitation Center                NaN   \n",
      "4       NaN  Economic Self-Sufficiency Program                NaN   \n",
      "\n",
      "      service_areas  status wait_time website taxonomy_ids  \n",
      "0             Colma  active  No wait.     NaN          NaN  \n",
      "1  San Mateo County  active   Varies.     NaN          NaN  \n",
      "2  San Mateo County  active   Varies.     NaN          NaN  \n",
      "3  San Mateo County  active  No wait.     NaN          NaN  \n",
      "4  San Mateo County  active       NaN     NaN          NaN  \n",
      "\n",
      "[5 rows x 22 columns]\n"
     ]
    }
   ],
   "source": [
    "import pandas as pd\n",
    "\n",
    "df = pd.read_csv('Services.csv')\n",
    "\n",
    "print(df.head())"
   ]
  },
  {
   "cell_type": "code",
   "execution_count": 9,
   "metadata": {},
   "outputs": [
    {
     "name": "stdout",
     "output_type": "stream",
     "text": [
      "Series([], Name: status, dtype: object)\n"
     ]
    }
   ],
   "source": [
    "import pandas as pd\n",
    "\n",
    "df = pd.read_csv('Services.csv')\n",
    "\n",
    "grouped =df.groupby('program_id')\n",
    "\n",
    "mean_value = grouped['status'].mean()\n",
    "\n",
    "print(mean_value)\n",
    "\n"
   ]
  },
  {
   "attachments": {},
   "cell_type": "markdown",
   "metadata": {},
   "source": [
    "etc\n"
   ]
  },
  {
   "attachments": {},
   "cell_type": "markdown",
   "metadata": {},
   "source": [
    "Q2. Given a Pandas DataFrame df with columns 'A', 'B', and 'C', write a Python function to re-index the\n",
    "DataFrame with a new index that starts from 1 and increments by 2 for each row."
   ]
  },
  {
   "cell_type": "code",
   "execution_count": 18,
   "metadata": {},
   "outputs": [],
   "source": [
    "import pandas as pd\n",
    "\n",
    "def reindex_df(df):\n",
    "\n",
    "    newindex =pd.Index(range(1,len(df)*2,2))\n",
    "    newdf=df.copy()\n",
    "    newdf.index =newindex\n",
    "    return newdf"
   ]
  },
  {
   "cell_type": "code",
   "execution_count": 19,
   "metadata": {},
   "outputs": [
    {
     "name": "stdout",
     "output_type": "stream",
     "text": [
      "Original DataFrame:\n",
      "   A  B  C\n",
      "0  1  4  7\n",
      "1  2  5  8\n",
      "2  3  6  9\n",
      "re-indexed DataFrame\n",
      "   A  B  C\n",
      "1  1  4  7\n",
      "3  2  5  8\n",
      "5  3  6  9\n"
     ]
    }
   ],
   "source": [
    "import pandas as pd\n",
    "\n",
    "df=pd.DataFrame({'A':[1,2,3] , 'B':[4,5,6] , 'C':[7,8,9]})\n",
    "\n",
    "print('Original DataFrame:')\n",
    "print(df)\n",
    "\n",
    "newdf=reindex_df(df)\n",
    "\n",
    "print('re-indexed DataFrame')\n",
    "print(newdf)"
   ]
  },
  {
   "attachments": {},
   "cell_type": "markdown",
   "metadata": {},
   "source": [
    "Q3. You have a Pandas DataFrame df with a column named 'Values'. Write a Python function that\n",
    "iterates over the DataFrame and calculates the sum of the first three values in the 'Values' column. The\n",
    "function should print the sum to the console.\n",
    "For example, if the 'Values' column of df contains the values [10, 20, 30, 40, 50], your function should\n",
    "calculate and print the sum of the first three values, which is 60."
   ]
  },
  {
   "cell_type": "code",
   "execution_count": 30,
   "metadata": {},
   "outputs": [
    {
     "name": "stdout",
     "output_type": "stream",
     "text": [
      "The sum of the first three values is 60.\n"
     ]
    }
   ],
   "source": [
    "import pandas as pd\n",
    "\n",
    "df = pd.DataFrame({'Values': [10,20,30,40,50]})\n",
    "\n",
    "sum_first_three_values(df)\n",
    "\n",
    "def sum_first_three_values(df):\n",
    "\n",
    "    Values =df ['Values'][:3]\n",
    "    print(\"the sum of first three values is{Values.sum()}.\")"
   ]
  },
  {
   "attachments": {},
   "cell_type": "markdown",
   "metadata": {},
   "source": [
    "Q4. Given a Pandas DataFrame df with a column 'Text', write a Python function to create a new column\n",
    "'Word_Count' that contains the number of words in each row of the 'Text' column."
   ]
  },
  {
   "cell_type": "code",
   "execution_count": 12,
   "metadata": {},
   "outputs": [
    {
     "name": "stdout",
     "output_type": "stream",
     "text": [
      "        Text  Word_Count\n",
      "0  ghanshyam           1\n",
      "1     hassan           1\n",
      "2    kaushal           1\n",
      "3      karan           1\n"
     ]
    }
   ],
   "source": [
    "import pandas as pd\n",
    " \n",
    "df = pd.DataFrame({'Text':['ghanshyam' , 'hassan' , 'kaushal' , 'karan']})\n",
    "\n",
    "df['Word_Count'] = df['Text'].apply(lambda x: len(x.split()))\n",
    "\n",
    "\n",
    "print(df)"
   ]
  },
  {
   "attachments": {},
   "cell_type": "markdown",
   "metadata": {},
   "source": [
    "Q5. How are DataFrame.size() and DataFrame.shape() different?\n"
   ]
  },
  {
   "attachments": {},
   "cell_type": "markdown",
   "metadata": {},
   "source": [
    "Ans :Pandas DataFrames have methods called DataFrame.size() and DataFrame.shape() that both return data about the DataFrame, but they do so in distinct ways.\n",
    "\n",
    "The total number of elements in the DataFrame is returned by DataFrame.size(). In other words, it gives back the sum of the DataFrame's number of rows and columns. A number is the value that was obtained.\n",
    "\n",
    "\n",
    "The number of rows and columns in the DataFrame are listed in a tuple by DataFrame.shape(), on the other hand. As a result, DataFrame.shape()[0] and [1] yield the number of rows and columns, respectively. A tuple is the returning value."
   ]
  },
  {
   "attachments": {},
   "cell_type": "markdown",
   "metadata": {},
   "source": [
    "Q6. Which function of pandas do we use to read an excel file?"
   ]
  },
  {
   "cell_type": "code",
   "execution_count": 15,
   "metadata": {},
   "outputs": [
    {
     "name": "stdout",
     "output_type": "stream",
     "text": [
      "    Unnamed: 0  Unnamed: 1  Unnamed: 2  \\\n",
      "0          NaN         NaN         NaN   \n",
      "1          NaN         NaN         NaN   \n",
      "2          NaN         NaN         NaN   \n",
      "3          NaN         NaN         NaN   \n",
      "4          NaN         NaN         NaN   \n",
      "5          NaN         NaN         NaN   \n",
      "6          NaN         NaN         NaN   \n",
      "7          NaN         NaN         NaN   \n",
      "8          NaN         NaN         NaN   \n",
      "9          NaN         NaN         NaN   \n",
      "10         NaN         NaN         NaN   \n",
      "11         NaN         NaN         NaN   \n",
      "12         NaN         NaN         NaN   \n",
      "13         NaN         NaN         NaN   \n",
      "14         NaN         NaN         NaN   \n",
      "15         NaN         NaN         NaN   \n",
      "16         NaN         NaN         NaN   \n",
      "17         NaN         NaN         NaN   \n",
      "18         NaN         NaN         NaN   \n",
      "19         NaN         NaN         NaN   \n",
      "20         NaN         NaN         NaN   \n",
      "21         NaN         NaN         NaN   \n",
      "22         NaN         NaN         NaN   \n",
      "23         NaN         NaN         NaN   \n",
      "24         NaN         NaN         NaN   \n",
      "25         NaN         NaN         NaN   \n",
      "26         NaN         NaN         NaN   \n",
      "27         NaN         NaN         NaN   \n",
      "\n",
      "                                           Unnamed: 3  \\\n",
      "0                                                 NaN   \n",
      "1                                  Datetimes in LUSID   \n",
      "2                                                 NaN   \n",
      "3    This sheet allows you to format datetimes for...   \n",
      "4         If you have any questions please visit our:   \n",
      "5                                                 NaN   \n",
      "6                                                 NaN   \n",
      "7                                                 NaN   \n",
      "8                                                 NaN   \n",
      "9                                                 NaN   \n",
      "10                                                NaN   \n",
      "11                                                NaN   \n",
      "12                                                NaN   \n",
      "13                                                NaN   \n",
      "14                                                NaN   \n",
      "15                                                NaN   \n",
      "16                                                NaN   \n",
      "17                                                NaN   \n",
      "18                                                NaN   \n",
      "19                                                NaN   \n",
      "20                                                NaN   \n",
      "21                                                NaN   \n",
      "22                                                NaN   \n",
      "23                                                NaN   \n",
      "24                                                NaN   \n",
      "25                                                NaN   \n",
      "26                                                NaN   \n",
      "27                                                NaN   \n",
      "\n",
      "                                           Unnamed: 4  \\\n",
      "0                                                 NaN   \n",
      "1                                                 NaN   \n",
      "2                                                 NaN   \n",
      "3                                                 NaN   \n",
      "4                                                 NaN   \n",
      "5                           Getting Started tutorials   \n",
      "6                             Knowledge Base articles   \n",
      "7                                       or Contact us   \n",
      "8                                                 NaN   \n",
      "9                                                 NaN   \n",
      "10                                                NaN   \n",
      "11  LUSID accepts datetimes in any recognised Exce...   \n",
      "12                                                NaN   \n",
      "13                     Excel formats to show datetime   \n",
      "14                                                NaN   \n",
      "15                          Enter the date to convert   \n",
      "16                                                NaN   \n",
      "17                    This date has no time component   \n",
      "18                                                NaN   \n",
      "19                             Specify time component   \n",
      "20                                                NaN   \n",
      "21  Add to your date and display the complete date...   \n",
      "22                                                NaN   \n",
      "23   Although the date can still appears without time   \n",
      "24                                                NaN   \n",
      "25                       Add an hour to your datetime   \n",
      "26                                                NaN   \n",
      "27               Subtract a minute from your datetime   \n",
      "\n",
      "                    Unnamed: 5  Unnamed: 6  \\\n",
      "0                          NaN         NaN   \n",
      "1                          NaN         NaN   \n",
      "2                          NaN         NaN   \n",
      "3                          NaN         NaN   \n",
      "4                          NaN         NaN   \n",
      "5                          NaN         NaN   \n",
      "6                          NaN         NaN   \n",
      "7                          NaN         NaN   \n",
      "8                          NaN         NaN   \n",
      "9                          NaN         NaN   \n",
      "10                         NaN         NaN   \n",
      "11                         NaN         NaN   \n",
      "12                         NaN         NaN   \n",
      "13                         NaN         NaN   \n",
      "14                         NaN         NaN   \n",
      "15         2019-04-10 00:00:00         NaN   \n",
      "16                         NaN         NaN   \n",
      "17         2019-04-10 00:00:00         NaN   \n",
      "18                         NaN         NaN   \n",
      "19             13:30:45.550000         NaN   \n",
      "20                         NaN         NaN   \n",
      "21  2019-04-10 13:30:45.550000         NaN   \n",
      "22                         NaN         NaN   \n",
      "23  2019-04-10 13:30:45.550000         NaN   \n",
      "24                         NaN         NaN   \n",
      "25  2019-04-10 14:30:45.550000         NaN   \n",
      "26                         NaN         NaN   \n",
      "27  2019-04-10 14:29:45.550000         NaN   \n",
      "\n",
      "                                           Unnamed: 7  \\\n",
      "0                                                 NaN   \n",
      "1                                                 NaN   \n",
      "2                                                 NaN   \n",
      "3                                                 NaN   \n",
      "4                                                 NaN   \n",
      "5                                                 NaN   \n",
      "6                                                 NaN   \n",
      "7                                                 NaN   \n",
      "8                                                 NaN   \n",
      "9                                                 NaN   \n",
      "10                                                NaN   \n",
      "11  LUSID also accepts UTC, UTS offsets and cutlabels   \n",
      "12                                                NaN   \n",
      "13                                 Additional formats   \n",
      "14                                                NaN   \n",
      "15                            Standard UTC timestamp:   \n",
      "16                                                NaN   \n",
      "17                         Convert date into a string   \n",
      "18                                                NaN   \n",
      "19       UTC offset (not recognised as an excel date)   \n",
      "20                                                NaN   \n",
      "21                                           Cutlabel   \n",
      "22                                                NaN   \n",
      "23                                                NaN   \n",
      "24                                                NaN   \n",
      "25                                                NaN   \n",
      "26                                                NaN   \n",
      "27                                                NaN   \n",
      "\n",
      "                   Unnamed: 8  \\\n",
      "0                         NaN   \n",
      "1                         NaN   \n",
      "2                         NaN   \n",
      "3                         NaN   \n",
      "4                         NaN   \n",
      "5                         NaN   \n",
      "6                         NaN   \n",
      "7                         NaN   \n",
      "8                         NaN   \n",
      "9                         NaN   \n",
      "10                        NaN   \n",
      "11                        NaN   \n",
      "12                        NaN   \n",
      "13                        NaN   \n",
      "14                        NaN   \n",
      "15  \"YYYY-MM-DDTHH:MM:SS.00Z\"   \n",
      "16                        NaN   \n",
      "17   2019-04-10T 13:30:45.55Z   \n",
      "18                        NaN   \n",
      "19  2019-04-10T13:30:45+04:00   \n",
      "20                        NaN   \n",
      "21  2019-04-10NSingaporeClose   \n",
      "22                        NaN   \n",
      "23                        NaN   \n",
      "24                        NaN   \n",
      "25                        NaN   \n",
      "26                        NaN   \n",
      "27                        NaN   \n",
      "\n",
      "                                           Unnamed: 9  \n",
      "0                                                 NaN  \n",
      "1                                                 NaN  \n",
      "2                                                 NaN  \n",
      "3                                                 NaN  \n",
      "4                                                 NaN  \n",
      "5                                                 NaN  \n",
      "6                                                 NaN  \n",
      "7                                                 NaN  \n",
      "8                                                 NaN  \n",
      "9                                                 NaN  \n",
      "10                                                NaN  \n",
      "11                                                NaN  \n",
      "12                                                NaN  \n",
      "13                                                NaN  \n",
      "14                                                NaN  \n",
      "15  Where Z indicates Zulu time (UTC+0), and is eq...  \n",
      "16                                                NaN  \n",
      "17                                                NaN  \n",
      "18                                                NaN  \n",
      "19                                                NaN  \n",
      "20                                                NaN  \n",
      "21                                                NaN  \n",
      "22                                                NaN  \n",
      "23                                                NaN  \n",
      "24                                                NaN  \n",
      "25                                                NaN  \n",
      "26                                                NaN  \n",
      "27                                                NaN  \n"
     ]
    }
   ],
   "source": [
    "import pandas as pd\n",
    "\n",
    "df = pd.read_excel('LUSID Excel - Setting up your market data.xlsx')\n",
    "\n",
    "print(df)"
   ]
  },
  {
   "attachments": {},
   "cell_type": "markdown",
   "metadata": {},
   "source": [
    "Q7. You have a Pandas DataFrame df that contains a column named 'Email' that contains email\n",
    "addresses in the format 'username@domain.com'. Write a Python function that creates a new column\n",
    "'Username' in df that contains only the username part of each email address.\n",
    "The username is the part of the email address that appears before the '@' symbol. For example, if the\n",
    "email address is 'john.doe@example.com', the 'Username' column should contain 'john.doe'. Your\n",
    "function should extract the username from each email address and store it in the new 'Username'\n",
    "column."
   ]
  },
  {
   "cell_type": "code",
   "execution_count": 3,
   "metadata": {},
   "outputs": [],
   "source": [
    "import pandas as pd\n",
    "def extract_username(df):\n",
    "    df['Username']=df['Email'].str.split('@').str[0]\n",
    "\n",
    "    return df"
   ]
  },
  {
   "cell_type": "code",
   "execution_count": 6,
   "metadata": {},
   "outputs": [
    {
     "name": "stdout",
     "output_type": "stream",
     "text": [
      "                       Email       Username\n",
      "0       john.doe@example.com       john.doe\n",
      "1  ghanshyam.doe@example.cim  ghanshyam.doe\n"
     ]
    }
   ],
   "source": [
    "df = pd.DataFrame({'Email' :['john.doe@example.com','ghanshyam.doe@example.cim']})\n",
    "\n",
    "df = extract_username(df)\n",
    "\n",
    "print(df)"
   ]
  },
  {
   "attachments": {},
   "cell_type": "markdown",
   "metadata": {},
   "source": [
    "Q8. You have a Pandas DataFrame df with columns 'A', 'B', and 'C'. Write a Python function that selects\n",
    "all rows where the value in column 'A' is greater than 5 and the value in column 'B' is less than 10. The\n",
    "function should return a new DataFrame that contains only the selected rows."
   ]
  },
  {
   "cell_type": "code",
   "execution_count": 7,
   "metadata": {},
   "outputs": [],
   "source": [
    "import pandas as pd \n",
    "\n",
    "def selected_row(df):\n",
    "    selected_row =df[(df['A']>5) & (df['B']<10)]\n",
    "\n",
    "    return selected_row"
   ]
  },
  {
   "cell_type": "code",
   "execution_count": 8,
   "metadata": {},
   "outputs": [
    {
     "name": "stdout",
     "output_type": "stream",
     "text": [
      "   A  B  C\n",
      "1  8  2  7\n",
      "2  6  9  4\n",
      "4  9  1  2\n"
     ]
    }
   ],
   "source": [
    "df=pd.DataFrame({\n",
    "    'A':[3,8,6,2,9],\n",
    "    'B':[5,2,9,3,1],\n",
    "    'C':[1,7,4,5,2]\n",
    "})\n",
    "\n",
    "selected_row=selected_row(df)\n",
    "\n",
    "print(selected_row)"
   ]
  },
  {
   "attachments": {},
   "cell_type": "markdown",
   "metadata": {},
   "source": [
    "Q9. Given a Pandas DataFrame df with a column 'Values', write a Python function to calculate the mean,\n",
    "median, and standard deviation of the values in the 'Values' column."
   ]
  },
  {
   "cell_type": "code",
   "execution_count": 14,
   "metadata": {},
   "outputs": [
    {
     "name": "stdout",
     "output_type": "stream",
     "text": [
      "{'mean': 4.8, 'median': 5.0, 'std': 1.9235384061671346}\n"
     ]
    }
   ],
   "source": [
    "import pandas as pd\n",
    "df=pd.DataFrame({'Values' :[2,4,5,6,7]})\n",
    "\n",
    "def calculate(df):\n",
    "    mean=df['Values'].mean()\n",
    "    median=df['Values'].median()\n",
    "    std=df['Values'].std()\n",
    "\n",
    "    return {'mean': mean, 'median': median, 'std': std}\n",
    "statistics = calculate(df)\n",
    "\n",
    "print(statistics)"
   ]
  },
  {
   "attachments": {},
   "cell_type": "markdown",
   "metadata": {},
   "source": [
    "Q10. Given a Pandas DataFrame df with a column 'Sales' and a column 'Date', write a Python function to\n",
    "create a new column 'MovingAverage' that contains the moving average of the sales for the past 7 days\n",
    "for each row in the DataFrame. The moving average should be calculated using a window of size 7 and\n",
    "should include the current day.\n"
   ]
  },
  {
   "cell_type": "code",
   "execution_count": 10,
   "metadata": {},
   "outputs": [
    {
     "name": "stdout",
     "output_type": "stream",
     "text": [
      "            Unnamed: 0    Product  Quantity  Price  MovingAverage\n",
      "Date                                                             \n",
      "2023-05-01           0  Product A        10  20.50      10.000000\n",
      "2023-05-02           1  Product B         5  15.75       7.500000\n",
      "2023-05-03           2  Product C         8  12.00       7.666667\n",
      "2023-05-04           3  Product A        15  20.50       9.500000\n",
      "2023-05-05           4  Product B         3  15.75       8.200000\n",
      "2023-05-06           5  Product C         6  12.00       7.833333\n",
      "2023-05-07           6  Product A        12  20.50       8.428571\n",
      "2023-05-08           7  Product B         7  15.75       8.000000\n",
      "2023-05-09           8  Product C         9  12.00       8.571429\n",
      "2023-05-10           9  Product A        20  20.50      10.285714\n"
     ]
    }
   ],
   "source": [
    "import pandas as pd\n",
    "\n",
    "df = pd.read_csv('sales_data.csv')\n",
    "\n",
    "df['Date'] = pd.to_datetime(df['Date'])\n",
    "\n",
    "df = df.set_index('Date')\n",
    "\n",
    "df['MovingAverage']= df['Quantity'].rolling(window=7,min_periods=1).mean()\n",
    "\n",
    "print(df)"
   ]
  },
  {
   "attachments": {},
   "cell_type": "markdown",
   "metadata": {},
   "source": [
    "Q11. You have a Pandas DataFrame df with a column 'Date'. Write a Python function that creates a new\n",
    "column 'Weekday' in the DataFrame. The 'Weekday' column should contain the weekday name (e.g.\n",
    "Monday, Tuesday) corresponding to each date in the 'Date' column."
   ]
  },
  {
   "cell_type": "code",
   "execution_count": 1,
   "metadata": {},
   "outputs": [
    {
     "name": "stdout",
     "output_type": "stream",
     "text": [
      "        Date\n",
      "0 2023-01-01\n",
      "1 2023-01-02\n",
      "2 2023-01-03\n",
      "3 2023-01-04\n",
      "4 2023-01-05\n"
     ]
    }
   ],
   "source": [
    "import pandas as pd\n",
    "df = pd.DataFrame({'Date': ['2023-01-01', '2023-01-02', '2023-01-03', '2023-01-04', '2023-01-05']})\n",
    "df['Date'] = pd.to_datetime(df['Date'])\n",
    "def add_weekday_column(df):\n",
    "    df['aday_name'] = df['Date'].dt.aday_name()\n",
    "    df = add_weekday_column(df)\n",
    "print(df)"
   ]
  },
  {
   "attachments": {},
   "cell_type": "markdown",
   "metadata": {},
   "source": [
    "Q12. Given a Pandas DataFrame df with a column 'Date' that contains timestamps, write a Python\n",
    "function to select all rows where the date is between '2023-01-01' and '2023-01-31'."
   ]
  },
  {
   "cell_type": "code",
   "execution_count": 2,
   "metadata": {},
   "outputs": [],
   "source": [
    "import pandas as pd\n",
    "\n",
    "def select_january_dates(df):\n",
    "    # Convert the 'Date' column to a datetime object\n",
    "    df['Date'] = pd.to_datetime(df['Date'])\n",
    "    \n",
    "    # Select all rows where the date is between '2023-01-01' and '2023-01-31'\n",
    "    january_dates = df[(df['Date'] >= '2023-01-01') & (df['Date'] <= '2023-01-31')]\n",
    "    \n",
    "    return january_dates\n"
   ]
  },
  {
   "cell_type": "code",
   "execution_count": 3,
   "metadata": {},
   "outputs": [],
   "source": [
    "select_january_dates=select_january_dates(df)"
   ]
  },
  {
   "cell_type": "code",
   "execution_count": 4,
   "metadata": {},
   "outputs": [
    {
     "data": {
      "text/html": [
       "<div>\n",
       "<style scoped>\n",
       "    .dataframe tbody tr th:only-of-type {\n",
       "        vertical-align: middle;\n",
       "    }\n",
       "\n",
       "    .dataframe tbody tr th {\n",
       "        vertical-align: top;\n",
       "    }\n",
       "\n",
       "    .dataframe thead th {\n",
       "        text-align: right;\n",
       "    }\n",
       "</style>\n",
       "<table border=\"1\" class=\"dataframe\">\n",
       "  <thead>\n",
       "    <tr style=\"text-align: right;\">\n",
       "      <th></th>\n",
       "      <th>Date</th>\n",
       "    </tr>\n",
       "  </thead>\n",
       "  <tbody>\n",
       "    <tr>\n",
       "      <th>0</th>\n",
       "      <td>2023-01-01</td>\n",
       "    </tr>\n",
       "    <tr>\n",
       "      <th>1</th>\n",
       "      <td>2023-01-02</td>\n",
       "    </tr>\n",
       "    <tr>\n",
       "      <th>2</th>\n",
       "      <td>2023-01-03</td>\n",
       "    </tr>\n",
       "    <tr>\n",
       "      <th>3</th>\n",
       "      <td>2023-01-04</td>\n",
       "    </tr>\n",
       "    <tr>\n",
       "      <th>4</th>\n",
       "      <td>2023-01-05</td>\n",
       "    </tr>\n",
       "  </tbody>\n",
       "</table>\n",
       "</div>"
      ],
      "text/plain": [
       "        Date\n",
       "0 2023-01-01\n",
       "1 2023-01-02\n",
       "2 2023-01-03\n",
       "3 2023-01-04\n",
       "4 2023-01-05"
      ]
     },
     "execution_count": 4,
     "metadata": {},
     "output_type": "execute_result"
    }
   ],
   "source": [
    "select_january_dates"
   ]
  },
  {
   "attachments": {},
   "cell_type": "markdown",
   "metadata": {},
   "source": [
    "Q13. To use the basic functions of pandas, what is the first and foremost necessary library that needs to\n",
    "be imported?"
   ]
  },
  {
   "attachments": {},
   "cell_type": "markdown",
   "metadata": {},
   "source": [
    "\n",
    "Ans:To use the basic functions of pandas, the first and foremost library that needs to be imported is the pandas library itself."
   ]
  },
  {
   "cell_type": "code",
   "execution_count": 9,
   "metadata": {},
   "outputs": [],
   "source": [
    "import pandas as pd"
   ]
  },
  {
   "cell_type": "code",
   "execution_count": null,
   "metadata": {},
   "outputs": [],
   "source": []
  }
 ],
 "metadata": {
  "kernelspec": {
   "display_name": "base",
   "language": "python",
   "name": "python3"
  },
  "language_info": {
   "codemirror_mode": {
    "name": "ipython",
    "version": 3
   },
   "file_extension": ".py",
   "mimetype": "text/x-python",
   "name": "python",
   "nbconvert_exporter": "python",
   "pygments_lexer": "ipython3",
   "version": "3.10.9"
  },
  "orig_nbformat": 4
 },
 "nbformat": 4,
 "nbformat_minor": 2
}
